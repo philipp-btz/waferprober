{
 "cells": [
  {
   "cell_type": "markdown",
   "id": "fee650e5",
   "metadata": {},
   "source": [
    "# This is the Analysis of the Wafertests\n",
    "\n",
    "\n",
    "\n",
    "because of *filesize reasons*, you have to create the graphs locally\n",
    "\n",
    "\n",
    "to create the desired graph, you need to run the following code cell and the code cell of the graphs you desire\n",
    "\n"
   ]
  },
  {
   "cell_type": "code",
   "execution_count": 1,
   "id": "3be6d3c7",
   "metadata": {},
   "outputs": [
    {
     "ename": "ModuleNotFoundError",
     "evalue": "No module named 'custom_analyzer'",
     "output_type": "error",
     "traceback": [
      "\u001b[0;31m---------------------------------------------------------------------------\u001b[0m",
      "\u001b[0;31mModuleNotFoundError\u001b[0m                       Traceback (most recent call last)",
      "\u001b[0;32m<ipython-input-1-0d17a83377d6>\u001b[0m in \u001b[0;36m<module>\u001b[0;34m\u001b[0m\n\u001b[0;32m----> 1\u001b[0;31m \u001b[0;32mimport\u001b[0m \u001b[0mcustom_analyzer\u001b[0m \u001b[0;32mas\u001b[0m \u001b[0mcanal\u001b[0m\u001b[0;34m\u001b[0m\u001b[0;34m\u001b[0m\u001b[0m\n\u001b[0m\u001b[1;32m      2\u001b[0m \u001b[0;32mimport\u001b[0m \u001b[0mtime\u001b[0m\u001b[0;34m\u001b[0m\u001b[0;34m\u001b[0m\u001b[0m\n\u001b[1;32m      3\u001b[0m \u001b[0;32mimport\u001b[0m \u001b[0mmatplotlib\u001b[0m\u001b[0;34m.\u001b[0m\u001b[0mpyplot\u001b[0m \u001b[0;32mas\u001b[0m \u001b[0mplt\u001b[0m\u001b[0;34m\u001b[0m\u001b[0;34m\u001b[0m\u001b[0m\n\u001b[1;32m      4\u001b[0m \u001b[0;32mimport\u001b[0m \u001b[0mcustom_pathlibrary\u001b[0m \u001b[0;32mas\u001b[0m \u001b[0mcpath\u001b[0m\u001b[0;34m\u001b[0m\u001b[0;34m\u001b[0m\u001b[0m\n\u001b[1;32m      5\u001b[0m \u001b[0;32mimport\u001b[0m \u001b[0mnumpy\u001b[0m \u001b[0;32mas\u001b[0m \u001b[0mnp\u001b[0m\u001b[0;34m\u001b[0m\u001b[0;34m\u001b[0m\u001b[0m\n",
      "\u001b[0;31mModuleNotFoundError\u001b[0m: No module named 'custom_analyzer'"
     ]
    }
   ],
   "source": [
    "import custom_analyzer as canal\n",
    "import time\n",
    "import matplotlib.pyplot as plt\n",
    "import custom_pathlibrary as cpath\n",
    "import numpy as np\n",
    "files = canal.get_all_filenames(startdir= \"data/Wafer_at_2025_06_05-15_06_18\")\n",
    "dataset = canal.Dataset()\n",
    "dataset.add_files(files=files, only_measurements=True)"
   ]
  },
  {
   "cell_type": "markdown",
   "id": "3718d46d",
   "metadata": {},
   "source": [
    "## Content:\n",
    "1. graphs of different types of diodes\n",
    "2. single test graphs of diodetype 04E20\n",
    "3. error of the single-measurement"
   ]
  },
  {
   "cell_type": "markdown",
   "id": "a438e1d7",
   "metadata": {},
   "source": [
    "## 1. graphs of different types of diodes"
   ]
  },
  {
   "cell_type": "code",
   "execution_count": 3,
   "id": "75036a18",
   "metadata": {},
   "outputs": [],
   "source": [
    "### 1. graphs of different diodetypes   ###\n",
    "path = cpath.PLib()\n",
    "identifier = path.dieNr_to_identifier\n",
    "for i in identifier:\n",
    "    slicename, slice = dataset.filter(slicename=i, parameter=\"identifier\", value=i)\n",
    "    dataset.clean_slice_data_rbias(target_slice_name=slicename, verbose=True)\n",
    "    #dataset.get_slice_mean(target_slice_name=slicename)\n",
    "    #dataset.get_slice_se(target_slice_name=slicename)\n",
    "    getattr(dataset, \"created_at\")\n",
    "    graph = canal.Graph(yscale=\"log\", title=i)\n",
    "    graph.unpack_dict(data=dataset.get_slice_mean(target_slice_name=slicename, rbias_only=True), mode= \"x_y\")\n",
    "    graph.unpack_dict(data=dataset.get_slice_se(target_slice_name=slicename, rbias_only=True), mode= \"x_err_y\")\n",
    "    graph.save(folder=\"figs/diodetypes\")"
   ]
  },
  {
   "cell_type": "markdown",
   "id": "ec01b0c0",
   "metadata": {},
   "source": [
    "## 2. in depth view in diode-data of type 04E20\n",
    "\n",
    "high error suggests systematic error or malfunctioning diodes\n",
    "\n"
   ]
  },
  {
   "cell_type": "code",
   "execution_count": 2,
   "id": "0cee4766",
   "metadata": {},
   "outputs": [
    {
     "ename": "NameError",
     "evalue": "name 'dataset' is not defined",
     "output_type": "error",
     "traceback": [
      "\u001b[0;31m---------------------------------------------------------------------------\u001b[0m",
      "\u001b[0;31mNameError\u001b[0m                                 Traceback (most recent call last)",
      "\u001b[0;32m<ipython-input-2-c525ca74e5d7>\u001b[0m in \u001b[0;36m<module>\u001b[0;34m\u001b[0m\n\u001b[0;32m----> 1\u001b[0;31m \u001b[0mslicename\u001b[0m\u001b[0;34m,\u001b[0m \u001b[0mslice\u001b[0m \u001b[0;34m=\u001b[0m \u001b[0mdataset\u001b[0m\u001b[0;34m.\u001b[0m\u001b[0mfilter\u001b[0m\u001b[0;34m(\u001b[0m\u001b[0mparameter\u001b[0m\u001b[0;34m=\u001b[0m\u001b[0;34m\"identifier\"\u001b[0m\u001b[0;34m,\u001b[0m \u001b[0mvalue\u001b[0m\u001b[0;34m=\u001b[0m\u001b[0;34m\"04E20\"\u001b[0m\u001b[0;34m)\u001b[0m\u001b[0;34m\u001b[0m\u001b[0;34m\u001b[0m\u001b[0m\n\u001b[0m\u001b[1;32m      2\u001b[0m \u001b[0mtimes\u001b[0m \u001b[0;34m=\u001b[0m \u001b[0mdataset\u001b[0m\u001b[0;34m.\u001b[0m\u001b[0mget_from_slice\u001b[0m\u001b[0;34m(\u001b[0m\u001b[0mslicename\u001b[0m\u001b[0;34m=\u001b[0m\u001b[0mslicename\u001b[0m\u001b[0;34m,\u001b[0m \u001b[0mkey\u001b[0m\u001b[0;34m=\u001b[0m\u001b[0;34m\"time_at_start\"\u001b[0m\u001b[0;34m)\u001b[0m\u001b[0;34m\u001b[0m\u001b[0;34m\u001b[0m\u001b[0m\n\u001b[1;32m      3\u001b[0m \u001b[0;32mfor\u001b[0m \u001b[0mi\u001b[0m \u001b[0;32min\u001b[0m \u001b[0mtimes\u001b[0m\u001b[0;34m:\u001b[0m\u001b[0;34m\u001b[0m\u001b[0;34m\u001b[0m\u001b[0m\n\u001b[1;32m      4\u001b[0m     \u001b[0mnew_name_subslice\u001b[0m \u001b[0;34m=\u001b[0m \u001b[0;34mf\"04E20_measured_at_{i}\"\u001b[0m\u001b[0;34m\u001b[0m\u001b[0;34m\u001b[0m\u001b[0m\n\u001b[1;32m      5\u001b[0m     \u001b[0mname_subslice\u001b[0m\u001b[0;34m,\u001b[0m \u001b[0msubslice\u001b[0m \u001b[0;34m=\u001b[0m \u001b[0mdataset\u001b[0m\u001b[0;34m.\u001b[0m\u001b[0mfilter_slice\u001b[0m\u001b[0;34m(\u001b[0m\u001b[0mtarget_slice_name\u001b[0m\u001b[0;34m=\u001b[0m\u001b[0mslicename\u001b[0m\u001b[0;34m,\u001b[0m \u001b[0mparameter\u001b[0m\u001b[0;34m=\u001b[0m\u001b[0;34m\"time_at_start\"\u001b[0m\u001b[0;34m,\u001b[0m \u001b[0mvalue\u001b[0m\u001b[0;34m=\u001b[0m\u001b[0mstr\u001b[0m\u001b[0;34m(\u001b[0m\u001b[0mi\u001b[0m\u001b[0;34m)\u001b[0m\u001b[0;34m,\u001b[0m \u001b[0mname\u001b[0m\u001b[0;34m=\u001b[0m\u001b[0mnew_name_subslice\u001b[0m\u001b[0;34m)\u001b[0m\u001b[0;34m\u001b[0m\u001b[0;34m\u001b[0m\u001b[0m\n",
      "\u001b[0;31mNameError\u001b[0m: name 'dataset' is not defined"
     ]
    }
   ],
   "source": [
    "slicename, slice = dataset.filter(parameter=\"identifier\", value=\"04E20\")\n",
    "times = dataset.get_from_slice(slicename=slicename, key=\"time_at_start\")\n",
    "for i in times:\n",
    "    new_name_subslice = f\"04E20_measured_at_{i}\"\n",
    "    name_subslice, subslice = dataset.filter_slice(target_slice_name=slicename, parameter=\"time_at_start\", value=str(i), name=new_name_subslice)\n",
    "    die_nr = dataset.get_from_slice(slicename=name_subslice, key=\"die_nr\")[0]\n",
    "    diode_nr = dataset.get_from_slice(slicename=name_subslice, key=\"diode_Nr\")[0]\n",
    "    #dataset.clean_slice_data_rbias_rbias_rbias_rbias_rbias_rbias_rbias_rbias_rbias_rbias_rbias_rbias_rbias_rbias_rbias_rbias_rbias_rbias_rbias_rbias(target_slice_name=name_subslice)\n",
    "    try:\n",
    "        graph = canal.Graph(yscale=\"log\", title=f\"04E20_Die_{die_nr}_Diode_{diode_nr}\")\n",
    "        graph.unpack_dict(data=dataset.get_slice_mean(target_slice_name=name_subslice, rbias_only=True), mode= \"x_y\")\n",
    "        graph.save(folder=\"figs/04E20_single_measurements\")\n",
    "    except Exception as e:\n",
    "        print(f\"Error creating graph for {name_subslice}: {e}\")\n",
    "        continue\n"
   ]
  },
  {
   "cell_type": "markdown",
   "id": "e482f9c4",
   "metadata": {},
   "source": [
    "## single measurement error"
   ]
  },
  {
   "cell_type": "code",
   "execution_count": null,
   "id": "b03f2cb3",
   "metadata": {},
   "outputs": [],
   "source": []
  },
  {
   "cell_type": "code",
   "execution_count": null,
   "id": "48a37647",
   "metadata": {},
   "outputs": [],
   "source": [
    "dataset.slices"
   ]
  },
  {
   "cell_type": "markdown",
   "id": "46d8d344",
   "metadata": {},
   "source": [
    "## Other Stuff"
   ]
  },
  {
   "cell_type": "code",
   "execution_count": null,
   "id": "b8994caa",
   "metadata": {},
   "outputs": [],
   "source": [
    "slicename, slice = dataset.filter(parameter=\"identifier\", value=\"04E20\")\n",
    "\n",
    "graph = canal.Graph(yscale=\"log\", title=\"04E20_pre_cleanup\")\n",
    "graph.unpack_dict(data=dataset.get_slice_mean(target_slice_name=slicename, rbias_only=True), mode= \"x_y\")\n",
    "graph.unpack_dict(data=dataset.get_slice_se(target_slice_name=slicename, rbias_only=True), mode= \"x_err_y\")\n",
    "graph.save(folder=\"figs/test/pre\")\n",
    "print(\"009988\",len(dataset.slices[slicename]))\n",
    "dataset.clean_slice_data_rbias(target_slice_name=slicename)\n",
    "print(\"009988\", len(dataset.slices[slicename]))\n",
    "graph = canal.Graph(yscale=\"log\", title=\"04E20_post_cleanup\")\n",
    "graph.unpack_dict(data=dataset.get_slice_mean(target_slice_name=slicename, rbias_only=True), mode= \"x_y\")\n",
    "graph.unpack_dict(data=dataset.get_slice_se(target_slice_name=slicename, rbias_only=True), mode= \"x_err_y\")\n",
    "graph.save(folder=\"figs/test/post\")\n",
    "\n"
   ]
  },
  {
   "cell_type": "code",
   "execution_count": null,
   "id": "5531835f",
   "metadata": {},
   "outputs": [],
   "source": [
    "graph = canal.Graph(yscale=\"log\")\n",
    "graph.unpack_dict(data=dataset.get_slice_mean(target_slice_name=slicename, rbias_only=True), mode= \"x_y\")\n",
    "graph.unpack_dict(data=dataset.get_slice_se(target_slice_name=slicename, rbias_only=True), mode= \"x_err_y\")\n",
    "graph.plot()"
   ]
  },
  {
   "cell_type": "code",
   "execution_count": null,
   "id": "47fdd852",
   "metadata": {},
   "outputs": [],
   "source": [
    "timestr = time.strftime(\"%Y%m%d-%H%M%S\")\n",
    "#dataset.export_slice(target_slice_name=slicename, filename=f\"TEST_slice_export{timestr}\")"
   ]
  },
  {
   "cell_type": "markdown",
   "id": "dac40396",
   "metadata": {},
   "source": [
    "# Claudes Version\n"
   ]
  }
 ],
 "metadata": {
  "kernelspec": {
   "display_name": "Python 3",
   "language": "python",
   "name": "python3"
  },
  "language_info": {
   "codemirror_mode": {
    "name": "ipython",
    "version": 3
   },
   "file_extension": ".py",
   "mimetype": "text/x-python",
   "name": "python",
   "nbconvert_exporter": "python",
   "pygments_lexer": "ipython3",
   "version": "3.10.15"
  }
 },
 "nbformat": 4,
 "nbformat_minor": 5
}
