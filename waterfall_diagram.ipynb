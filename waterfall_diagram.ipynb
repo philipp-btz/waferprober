{
 "cells": [
  {
   "cell_type": "code",
   "execution_count": null,
   "id": "5994fb47",
   "metadata": {},
   "outputs": [],
   "source": [
    "import matplotlib.pyplot as plt\n",
    "import numpy as np\n",
    "import sys\n",
    "import os\n",
    "import json\n",
    "import custom_analyzer as canal\n",
    "import custom_pathlibrary as cpath\n",
    "\n",
    "\n",
    "files = canal.get_all_filenames"
   ]
  }
 ],
 "metadata": {
  "language_info": {
   "name": "python"
  }
 },
 "nbformat": 4,
 "nbformat_minor": 5
}
