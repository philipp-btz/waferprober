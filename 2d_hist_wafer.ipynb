{
 "cells": [
  {
   "cell_type": "code",
   "execution_count": 13,
   "id": "c799e730",
   "metadata": {},
   "outputs": [
    {
     "name": "stderr",
     "output_type": "stream",
     "text": [
      "/tmp/ipykernel_22172/3893736458.py:35: UserWarning: No artists with labels found to put in legend.  Note that artists whose label start with an underscore are ignored when legend() is called with no argument.\n",
      "  plt.legend()\n",
      "/tmp/ipykernel_22172/3893736458.py:36: UserWarning: No artists with labels found to put in legend.  Note that artists whose label start with an underscore are ignored when legend() is called with no argument.\n",
      "  plt.legend(fontsize=10, loc=\"best\", ncols=8)#, bbox_to_anchor=(0.6, -0.1))\n"
     ]
    },
    {
     "name": "stdout",
     "output_type": "stream",
     "text": [
      "Graph saved to figs/2d_histograms/2d_histogram_TEST.png\n"
     ]
    }
   ],
   "source": [
    "#### TEST CODE FOR 2D HISTOGRAMS ####\n",
    "\n",
    "\n",
    "import matplotlib.pyplot as plt\n",
    "import numpy as np\n",
    "import custom_analyzer as canal\n",
    "import time\n",
    "import random\n",
    "import os\n",
    "\n",
    "\n",
    "A_bins = 250\n",
    "\n",
    "folder = \"figs/2d_histograms\"\n",
    "filename = \"2d_histogram_TEST.png\"\n",
    "\n",
    "if not os.path.isdir(str(folder)):\n",
    "    os.makedirs(str(folder))\n",
    "\n",
    "\n",
    "\n",
    "vals_x = []\n",
    "vals_y = []\n",
    "for i in range(50000):\n",
    "    vals_x.append(random.gauss(mu=5e-9, sigma=1e-9))\n",
    "    vals_y.append(random.gauss(mu=1e-9, sigma=1e-9))\n",
    "\n",
    "\n",
    "fig = plt.figure(figsize=[16, 9])\n",
    "\n",
    "plt.hist2d(vals_x, vals_y, bins=A_bins)\n",
    "\n",
    "\n",
    "\n",
    "plt.legend()\n",
    "plt.legend(fontsize=10, loc=\"best\", ncols=8)#, bbox_to_anchor=(0.6, -0.1))\n",
    "\n",
    "plt.title(f\"2D test\", fontsize=20)\n",
    "plt.yscale(\"linear\")\n",
    "#plt.xscale(\"linear\")\n",
    "plt.xscale(\"linear\")\n",
    "#plt.xlim(left=40, right=48)\n",
    "plt.axhline(0, color='orange')\n",
    "plt.axvline(0, color='orange')   \n",
    "plt.grid(True)\n",
    "fig.set_facecolor('w')\n",
    "fig.savefig(os.path.join(folder, filename) if folder else filename, bbox_inches='tight', dpi=500)\n",
    "plt.close(fig)\n",
    "print(f\"Graph saved to {os.path.join(folder, filename) if folder else filename}\")"
   ]
  },
  {
   "cell_type": "code",
   "execution_count": null,
   "id": "6e15ae08",
   "metadata": {},
   "outputs": [],
   "source": [
    "\n",
    "\n",
    "import json\n",
    "import matplotlib.pyplot as plt\n",
    "import os\n",
    "import custom_analyzer as canal\n",
    "import custom_pathlibrary as cpath\n",
    "import matplotlib\n",
    "import numpy as np\n",
    "\n",
    "temp = 25  # Temperature in °C\n",
    "\n",
    "\n",
    "\n",
    "fig, ax = plt.subplots()\n",
    "x = []\n",
    "y = []\n",
    "c = []\n",
    "files = canal.get_all_filenames(startdir=\"data_storage/\")\n",
    "print(len(files), \"files found\")\n",
    "for i in files:\n",
    "    if i.endswith(\".json\") and \"IV_\" in i:\n",
    "        with open(i, 'r') as f:\n",
    "            db = json.load(f)\n",
    "        if db['temp_at_end'] == temp and db['identifier'] == \"01E20\":\n",
    "            current = db[\"iv_data_rbias\"]\n",
    "            for voltage, current_value in current:\n",
    "                if voltage == target_voltage and current_value > 0:\n",
    "                    if current_value > 1e-12:\n",
    "                        c.append(\"r\")\n",
    "                    else:\n",
    "                        c.append(\"k\")\n",
    "    #                    c.append(np.sqrt(np.sqrt(float(current_value))))\n",
    "                    x.append(float(db[\"x_pos\"]))\n",
    "                    y.append(float(db[\"y_pos\"]))\n",
    "print(f\"Number of data points: {len(x)}\")\n",
    "#x,y,c = np.transpose ([(float(db['x_pos']),float(db['y_pos']), float(db['fit_f:n'])) for item,db in slice.items()])\n",
    "cs=plt.scatter(x,y,c=c)\n",
    "fig.colorbar(cs)\n",
    "plt.title(f\"Identifier 01E20 - Current at {target_voltage}V at {temp}°C {len(c)} points\")\n",
    "plt.xlabel(\"X Position (mm)\")\n",
    "plt.ylabel(\"Y Position (mm)\")\n",
    "plt.show()"
   ]
  }
 ],
 "metadata": {
  "kernelspec": {
   "display_name": "Python 3",
   "language": "python",
   "name": "python3"
  },
  "language_info": {
   "codemirror_mode": {
    "name": "ipython",
    "version": 3
   },
   "file_extension": ".py",
   "mimetype": "text/x-python",
   "name": "python",
   "nbconvert_exporter": "python",
   "pygments_lexer": "ipython3",
   "version": "3.10.15"
  }
 },
 "nbformat": 4,
 "nbformat_minor": 5
}
